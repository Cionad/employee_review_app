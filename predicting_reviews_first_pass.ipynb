{
 "cells": [
  {
   "cell_type": "markdown",
   "metadata": {},
   "source": [
    "# Predicting Employee Reviews of Their Employers\n",
    "\n",
    "The goal of this exercise is to implement a simple REST API to enter new input (a new employee review of a company) and and have a predicted class returned (1 to 5 stars). \n",
    "\n",
    "Before building a flask app and serving up a model that can accept input and return a prediction, I'm going to do some interactive work in this notebook (text pre-processing, model evaluation & selection, etc.). I'll then save the model so that it can be used in the flask app.\n",
    "\n",
    "## Pre-processing the data & modeling\n",
    "\n",
    "The first step here is to read in the data and get it into a format that's ready for a simple multi-class text classification model. As mentioned in the README, the csv is available [here](https://www.kaggle.com/petersunga/google-amazon-facebook-employee-reviews). \n",
    "\n",
    "Given the goal of this exercise, I'm going to implement a relatively simple model and focus more on deploying it. Future work would involve additional feature engineering, modeling approaches, hyperparameter tuning, etc. \n",
    "\n",
    "Adhering to this simple approach, I'll limit my feature set to just the text/review fields in the data, dropping columns like the employee's location, date of review, and which company they're reviewing.  "
   ]
  },
  {
   "cell_type": "code",
   "execution_count": 1,
   "metadata": {},
   "outputs": [],
   "source": [
    "import pandas as pd\n",
    "import numpy as np\n",
    "import src.utils as pp\n",
    "\n",
    "from sklearn.feature_extraction.text import CountVectorizer\n",
    "from sklearn.feature_extraction.text import TfidfVectorizer\n",
    "from sklearn.externals import joblib\n",
    "from imblearn.over_sampling import RandomOverSampler\n",
    "from sklearn.model_selection import train_test_split\n",
    "from sklearn.naive_bayes import MultinomialNB\n",
    "\n",
    "from sklearn.metrics import classification_report\n",
    "from sklearn.metrics import accuracy_score\n",
    "\n",
    "import matplotlib.pyplot as plt\n",
    "import seaborn as sns\n",
    "\n",
    "sns.set_style('whitegrid')\n",
    "\n",
    "%matplotlib inline"
   ]
  },
  {
   "cell_type": "code",
   "execution_count": 2,
   "metadata": {},
   "outputs": [
    {
     "name": "stdout",
     "output_type": "stream",
     "text": [
      "<class 'pandas.core.frame.DataFrame'>\n",
      "RangeIndex: 67529 entries, 0 to 67528\n",
      "Data columns (total 17 columns):\n",
      "Unnamed: 0                    67529 non-null int64\n",
      "company                       67529 non-null object\n",
      "location                      67529 non-null object\n",
      "dates                         67529 non-null object\n",
      "job-title                     67529 non-null object\n",
      "summary                       67409 non-null object\n",
      "pros                          67529 non-null object\n",
      "cons                          67529 non-null object\n",
      "advice-to-mgmt                67232 non-null object\n",
      "overall-ratings               67529 non-null float64\n",
      "work-balance-stars            67529 non-null object\n",
      "culture-values-stars          67529 non-null object\n",
      "carrer-opportunities-stars    67529 non-null object\n",
      "comp-benefit-stars            67529 non-null object\n",
      "senior-mangemnet-stars        67529 non-null object\n",
      "helpful-count                 67529 non-null int64\n",
      "link                          67529 non-null object\n",
      "dtypes: float64(1), int64(2), object(14)\n",
      "memory usage: 8.8+ MB\n"
     ]
    }
   ],
   "source": [
    "df = pd.read_csv(\"employee_reviews.csv\")\n",
    "\n",
    "df.info()"
   ]
  },
  {
   "cell_type": "code",
   "execution_count": 3,
   "metadata": {},
   "outputs": [
    {
     "data": {
      "text/html": [
       "<div>\n",
       "<style scoped>\n",
       "    .dataframe tbody tr th:only-of-type {\n",
       "        vertical-align: middle;\n",
       "    }\n",
       "\n",
       "    .dataframe tbody tr th {\n",
       "        vertical-align: top;\n",
       "    }\n",
       "\n",
       "    .dataframe thead th {\n",
       "        text-align: right;\n",
       "    }\n",
       "</style>\n",
       "<table border=\"1\" class=\"dataframe\">\n",
       "  <thead>\n",
       "    <tr style=\"text-align: right;\">\n",
       "      <th></th>\n",
       "      <th>Unnamed: 0</th>\n",
       "      <th>company</th>\n",
       "      <th>location</th>\n",
       "      <th>dates</th>\n",
       "      <th>job-title</th>\n",
       "      <th>summary</th>\n",
       "      <th>pros</th>\n",
       "      <th>cons</th>\n",
       "      <th>advice-to-mgmt</th>\n",
       "      <th>overall-ratings</th>\n",
       "      <th>work-balance-stars</th>\n",
       "      <th>culture-values-stars</th>\n",
       "      <th>carrer-opportunities-stars</th>\n",
       "      <th>comp-benefit-stars</th>\n",
       "      <th>senior-mangemnet-stars</th>\n",
       "      <th>helpful-count</th>\n",
       "      <th>link</th>\n",
       "    </tr>\n",
       "  </thead>\n",
       "  <tbody>\n",
       "    <tr>\n",
       "      <th>0</th>\n",
       "      <td>1</td>\n",
       "      <td>google</td>\n",
       "      <td>none</td>\n",
       "      <td>Dec 11, 2018</td>\n",
       "      <td>Current Employee - Anonymous Employee</td>\n",
       "      <td>Best Company to work for</td>\n",
       "      <td>People are smart and friendly</td>\n",
       "      <td>Bureaucracy is slowing things down</td>\n",
       "      <td>none</td>\n",
       "      <td>5.0</td>\n",
       "      <td>4.0</td>\n",
       "      <td>5.0</td>\n",
       "      <td>5.0</td>\n",
       "      <td>4.0</td>\n",
       "      <td>5.0</td>\n",
       "      <td>0</td>\n",
       "      <td>https://www.glassdoor.com/Reviews/Google-Revie...</td>\n",
       "    </tr>\n",
       "    <tr>\n",
       "      <th>1</th>\n",
       "      <td>2</td>\n",
       "      <td>google</td>\n",
       "      <td>Mountain View, CA</td>\n",
       "      <td>Jun 21, 2013</td>\n",
       "      <td>Former Employee - Program Manager</td>\n",
       "      <td>Moving at the speed of light, burn out is inev...</td>\n",
       "      <td>1) Food, food, food. 15+ cafes on main campus ...</td>\n",
       "      <td>1) Work/life balance. What balance? All those ...</td>\n",
       "      <td>1) Don't dismiss emotional intelligence and ad...</td>\n",
       "      <td>4.0</td>\n",
       "      <td>2.0</td>\n",
       "      <td>3.0</td>\n",
       "      <td>3.0</td>\n",
       "      <td>5.0</td>\n",
       "      <td>3.0</td>\n",
       "      <td>2094</td>\n",
       "      <td>https://www.glassdoor.com/Reviews/Google-Revie...</td>\n",
       "    </tr>\n",
       "    <tr>\n",
       "      <th>2</th>\n",
       "      <td>3</td>\n",
       "      <td>google</td>\n",
       "      <td>New York, NY</td>\n",
       "      <td>May 10, 2014</td>\n",
       "      <td>Current Employee - Software Engineer III</td>\n",
       "      <td>Great balance between big-company security and...</td>\n",
       "      <td>* If you're a software engineer, you're among ...</td>\n",
       "      <td>* It *is* becoming larger, and with it comes g...</td>\n",
       "      <td>Keep the focus on the user. Everything else wi...</td>\n",
       "      <td>5.0</td>\n",
       "      <td>5.0</td>\n",
       "      <td>4.0</td>\n",
       "      <td>5.0</td>\n",
       "      <td>5.0</td>\n",
       "      <td>4.0</td>\n",
       "      <td>949</td>\n",
       "      <td>https://www.glassdoor.com/Reviews/Google-Revie...</td>\n",
       "    </tr>\n",
       "    <tr>\n",
       "      <th>3</th>\n",
       "      <td>4</td>\n",
       "      <td>google</td>\n",
       "      <td>Mountain View, CA</td>\n",
       "      <td>Feb 8, 2015</td>\n",
       "      <td>Current Employee - Anonymous Employee</td>\n",
       "      <td>The best place I've worked and also the most d...</td>\n",
       "      <td>You can't find a more well-regarded company th...</td>\n",
       "      <td>I live in SF so the commute can take between 1...</td>\n",
       "      <td>Keep on NOT micromanaging - that is a huge ben...</td>\n",
       "      <td>5.0</td>\n",
       "      <td>2.0</td>\n",
       "      <td>5.0</td>\n",
       "      <td>5.0</td>\n",
       "      <td>4.0</td>\n",
       "      <td>5.0</td>\n",
       "      <td>498</td>\n",
       "      <td>https://www.glassdoor.com/Reviews/Google-Revie...</td>\n",
       "    </tr>\n",
       "    <tr>\n",
       "      <th>4</th>\n",
       "      <td>5</td>\n",
       "      <td>google</td>\n",
       "      <td>Los Angeles, CA</td>\n",
       "      <td>Jul 19, 2018</td>\n",
       "      <td>Former Employee - Software Engineer</td>\n",
       "      <td>Unique, one of a kind dream job</td>\n",
       "      <td>Google is a world of its own. At every other c...</td>\n",
       "      <td>If you don't work in MTV (HQ), you will be giv...</td>\n",
       "      <td>Promote managers into management for their man...</td>\n",
       "      <td>5.0</td>\n",
       "      <td>5.0</td>\n",
       "      <td>5.0</td>\n",
       "      <td>5.0</td>\n",
       "      <td>5.0</td>\n",
       "      <td>5.0</td>\n",
       "      <td>49</td>\n",
       "      <td>https://www.glassdoor.com/Reviews/Google-Revie...</td>\n",
       "    </tr>\n",
       "  </tbody>\n",
       "</table>\n",
       "</div>"
      ],
      "text/plain": [
       "   Unnamed: 0 company           location          dates  \\\n",
       "0           1  google               none   Dec 11, 2018   \n",
       "1           2  google  Mountain View, CA   Jun 21, 2013   \n",
       "2           3  google       New York, NY   May 10, 2014   \n",
       "3           4  google  Mountain View, CA    Feb 8, 2015   \n",
       "4           5  google    Los Angeles, CA   Jul 19, 2018   \n",
       "\n",
       "                                  job-title  \\\n",
       "0     Current Employee - Anonymous Employee   \n",
       "1         Former Employee - Program Manager   \n",
       "2  Current Employee - Software Engineer III   \n",
       "3     Current Employee - Anonymous Employee   \n",
       "4       Former Employee - Software Engineer   \n",
       "\n",
       "                                             summary  \\\n",
       "0                           Best Company to work for   \n",
       "1  Moving at the speed of light, burn out is inev...   \n",
       "2  Great balance between big-company security and...   \n",
       "3  The best place I've worked and also the most d...   \n",
       "4                    Unique, one of a kind dream job   \n",
       "\n",
       "                                                pros  \\\n",
       "0                      People are smart and friendly   \n",
       "1  1) Food, food, food. 15+ cafes on main campus ...   \n",
       "2  * If you're a software engineer, you're among ...   \n",
       "3  You can't find a more well-regarded company th...   \n",
       "4  Google is a world of its own. At every other c...   \n",
       "\n",
       "                                                cons  \\\n",
       "0                 Bureaucracy is slowing things down   \n",
       "1  1) Work/life balance. What balance? All those ...   \n",
       "2  * It *is* becoming larger, and with it comes g...   \n",
       "3  I live in SF so the commute can take between 1...   \n",
       "4  If you don't work in MTV (HQ), you will be giv...   \n",
       "\n",
       "                                      advice-to-mgmt  overall-ratings  \\\n",
       "0                                               none              5.0   \n",
       "1  1) Don't dismiss emotional intelligence and ad...              4.0   \n",
       "2  Keep the focus on the user. Everything else wi...              5.0   \n",
       "3  Keep on NOT micromanaging - that is a huge ben...              5.0   \n",
       "4  Promote managers into management for their man...              5.0   \n",
       "\n",
       "  work-balance-stars culture-values-stars carrer-opportunities-stars  \\\n",
       "0                4.0                  5.0                        5.0   \n",
       "1                2.0                  3.0                        3.0   \n",
       "2                5.0                  4.0                        5.0   \n",
       "3                2.0                  5.0                        5.0   \n",
       "4                5.0                  5.0                        5.0   \n",
       "\n",
       "  comp-benefit-stars senior-mangemnet-stars  helpful-count  \\\n",
       "0                4.0                    5.0              0   \n",
       "1                5.0                    3.0           2094   \n",
       "2                5.0                    4.0            949   \n",
       "3                4.0                    5.0            498   \n",
       "4                5.0                    5.0             49   \n",
       "\n",
       "                                                link  \n",
       "0  https://www.glassdoor.com/Reviews/Google-Revie...  \n",
       "1  https://www.glassdoor.com/Reviews/Google-Revie...  \n",
       "2  https://www.glassdoor.com/Reviews/Google-Revie...  \n",
       "3  https://www.glassdoor.com/Reviews/Google-Revie...  \n",
       "4  https://www.glassdoor.com/Reviews/Google-Revie...  "
      ]
     },
     "execution_count": 3,
     "metadata": {},
     "output_type": "execute_result"
    }
   ],
   "source": [
    "df.head()"
   ]
  },
  {
   "cell_type": "code",
   "execution_count": 4,
   "metadata": {},
   "outputs": [],
   "source": [
    "#rename columns with hyphens; change them to underscores\n",
    "df.columns = df.columns.str.replace('-', '_')\n",
    "\n",
    "# select only columns of interest. Here that's the target (overall rating), and text fields:\n",
    "# summary, pros, cons, advice-to-mgmt\n",
    "\n",
    "cols = ['overall_ratings', 'summary', 'pros', 'cons', 'advice_to_mgmt']\n",
    "text_cols = ['summary', 'pros', 'cons', 'advice_to_mgmt']\n",
    "\n",
    "df = df[cols]"
   ]
  },
  {
   "cell_type": "code",
   "execution_count": 5,
   "metadata": {},
   "outputs": [],
   "source": [
    "# %%timeit\n",
    "# create one column of all text for the review, entering spaces between each\n",
    "# performs much faster than .apply(lambda x: ' '.join(x), axis=1)\n",
    "# fine for a handful of columns, but doesn't scale\n",
    "df['review'] = df['summary'] + ' ' + df['pros'] + ' ' + df['cons'] + ' ' + df['advice_to_mgmt']"
   ]
  },
  {
   "cell_type": "code",
   "execution_count": 6,
   "metadata": {},
   "outputs": [
    {
     "name": "stdout",
     "output_type": "stream",
     "text": [
      "[[5.0], ['great place to work and progress'], ['work culture, benefits, growth, people,'], ['No cons that i can think of'], ['none']]\n",
      "--------------------------------------------------------------------------------\n",
      "['great place to work and progress work culture, benefits, growth, people, No cons that i can think of none']\n"
     ]
    }
   ],
   "source": [
    "#quick visual inspection to make sure text columns aren't duplicates of each other\n",
    "print([df[col].to_list()[7:8] for col in df[cols]])\n",
    "print('--'*40)\n",
    "print(df.review.to_list()[7:8])"
   ]
  },
  {
   "cell_type": "code",
   "execution_count": 7,
   "metadata": {},
   "outputs": [
    {
     "data": {
      "text/plain": [
       "overall_ratings      0\n",
       "review             407\n",
       "dtype: int64"
      ]
     },
     "execution_count": 7,
     "metadata": {},
     "output_type": "execute_result"
    }
   ],
   "source": [
    "#drop the original text columns\n",
    "df = df.drop(text_cols, axis=1)\n",
    "\n",
    "#check null values\n",
    "df.isnull().sum()"
   ]
  },
  {
   "cell_type": "code",
   "execution_count": 8,
   "metadata": {},
   "outputs": [],
   "source": [
    "# since the dataset has 67k+ observations, \n",
    "# I'll just drop the 407 rows with no review / missing data\n",
    "df = df.dropna(axis=0)"
   ]
  },
  {
   "cell_type": "code",
   "execution_count": 9,
   "metadata": {},
   "outputs": [],
   "source": [
    "#read in contraction mapping\n",
    "contraction_mapping = pp.contraction_mapping\n",
    "\n",
    "#expand contractions in the review text\n",
    "df['review'] = df['review'] \\\n",
    "    .apply(lambda x: pp.expand_contractions(x, contraction_mapping))"
   ]
  },
  {
   "cell_type": "code",
   "execution_count": 10,
   "metadata": {},
   "outputs": [
    {
     "data": {
      "image/png": "[encoded data removed]",
      "text/plain": [
       "<Figure size 432x288 with 1 Axes>"
      ]
     },
     "metadata": {
      "needs_background": "light"
     },
     "output_type": "display_data"
    }
   ],
   "source": [
    "#check class balance of target variable\n",
    "ratings = pd.DataFrame(\n",
    "    df.overall_ratings.value_counts(normalize=True)\n",
    "    ) \\\n",
    "    .reset_index() \\\n",
    "    .rename(columns={'index':'stars',\n",
    "                     'overall_ratings':'pct'})\n",
    "\n",
    "ax = sns.barplot(x='stars', y='pct', data=ratings)\n",
    "ax.set(xlabel='Employee Rating', ylabel='Percent')\n",
    "plt.title(\"Employee Ratings of Employers\")\n",
    "labels = ['1 (low)', '2', '3', '4', '5 (high)']\n",
    "ax.set_xticklabels(labels)\n",
    "plt.show();"
   ]
  },
  {
   "cell_type": "markdown",
   "metadata": {},
   "source": [
    "So there is significant class imbalance in favor of 4-star and 5-star ratings. One way to account for this is to oversample the minority class and undersample the majority class (using Random Oversampling, the SMOTE algorithm, or something similar). "
   ]
  },
  {
   "cell_type": "markdown",
   "metadata": {},
   "source": [
    "## Feature Engineering & Modeling\n",
    "\n",
    "Both CountVectorizer() and TfidfVectorizer() in scikit-learn will tokenize the text and remove stopwords, so doing those functions independently is unnecessary. In future iterations, I could vary the hyperparameters of the CountVectorizer / TfidfVectorizer, for example, including both unigrams and bigrams by altering the default ngram_range=(1,1) to (1,2). In the review examined above, a unigram approach has a representation of:\n",
    "- \\['great', 'place', 'to', 'work'\\]\n",
    "\n",
    "While bigrams would have the following representation:\n",
    "- \\['great place', 'place to', 'to work' \\]\n",
    "\n",
    "\n",
    "For features in this initial modeling approach, I'll use the tfidf (term frequency-inverse document frequency), specifying that only unigram representation of reviews be considered. In short, tfidf downweights frequently occurring words. \n",
    "\n",
    "For modeling, a simple way to approach this multiclass classification problem is to use the Multinomial Naive Bayes classifier. "
   ]
  },
  {
   "cell_type": "code",
   "execution_count": 11,
   "metadata": {},
   "outputs": [],
   "source": [
    "X = df.review.values\n",
    "y = df.overall_ratings.values\n",
    "\n",
    "X_train, X_test, y_train, y_test = train_test_split(X, y, random_state = 42)"
   ]
  },
  {
   "cell_type": "code",
   "execution_count": 12,
   "metadata": {},
   "outputs": [],
   "source": [
    "#count_v = CountVectorizer()\n",
    "#bow_train = count_v.fit_transform(X_train)\n",
    "#bow_test = count_v.transform(X_test)\n",
    "\n",
    "tfidf = TfidfVectorizer(stop_words='english')\n",
    "\n",
    "tfidf_x_train = tfidf.fit_transform(X_train).toarray()\n",
    "tfidf_x_test = tfidf.transform(X_test).toarray()"
   ]
  },
  {
   "cell_type": "markdown",
   "metadata": {},
   "source": [
    "#### Oversampling\n",
    "\n",
    "If doing k-fold cross validation, care should be taken as to when oversampling should be done. When oversampling before creating k-folds, you \"contaminate\" the training and testing folds (you're putting the same data in each).\n",
    "\n",
    "Simple approach here, I won't do k-fold or stratified k-fold CV, so I'll oversample without that worry. "
   ]
  },
  {
   "cell_type": "code",
   "execution_count": 13,
   "metadata": {},
   "outputs": [],
   "source": [
    "#for a less naive algorithm, use SMOTE \n",
    "ros = RandomOverSampler(random_state=42)\n",
    "X_sm, y_sm = ros.fit_resample(tfidf_x_train, y_train)"
   ]
  },
  {
   "cell_type": "code",
   "execution_count": 14,
   "metadata": {},
   "outputs": [],
   "source": [
    "nb_clf = MultinomialNB()\n",
    "\n",
    "nb_model = nb_clf.fit(X_sm, y_sm)"
   ]
  },
  {
   "cell_type": "markdown",
   "metadata": {},
   "source": [
    "#### Save Model\n",
    "\n",
    "Since I'm not as focused on model complexity and model accuracy during this MVP / first pass, I'll just go ahead and save the fitted model and tfidf vectorizer as pickle files so that they can be loaded and used in a webapp. "
   ]
  },
  {
   "cell_type": "code",
   "execution_count": 15,
   "metadata": {},
   "outputs": [
    {
     "data": {
      "text/plain": [
       "['project/models/nb_model.pkl']"
      ]
     },
     "execution_count": 15,
     "metadata": {},
     "output_type": "execute_result"
    }
   ],
   "source": [
    "joblib.dump(tfidf, \"models/tfidf_vec.pkl\")\n",
    "joblib.dump(nb_model, \"models/nb_model.pkl\")"
   ]
  },
  {
   "cell_type": "markdown",
   "metadata": {},
   "source": [
    "#### Evaluate Model"
   ]
  },
  {
   "cell_type": "code",
   "execution_count": 16,
   "metadata": {},
   "outputs": [
    {
     "name": "stdout",
     "output_type": "stream",
     "text": [
      "Class Prediction: [1.] \n",
      " Class Probabilities: [[0.46624633 0.25228919 0.1485785  0.07047331 0.06241268]]\n"
     ]
    }
   ],
   "source": [
    "rev1 = [\"This company is awful! I'm never working here again.\"]\n",
    "\n",
    "print(\"Class Prediction:\", \n",
    "      nb_clf.predict(\n",
    "          tfidf.transform(rev1)\n",
    "      ),'\\n',\n",
    "      'Class Probabilities:',\n",
    "      nb_clf.predict_proba(\n",
    "          tfidf.transform(rev1)\n",
    "      )\n",
    "     )"
   ]
  },
  {
   "cell_type": "code",
   "execution_count": 17,
   "metadata": {},
   "outputs": [
    {
     "name": "stdout",
     "output_type": "stream",
     "text": [
      "Class Prediction: [3.] \n",
      " Class Probabilities: [[0.22948536 0.17144381 0.28934599 0.14668873 0.16303611]]\n"
     ]
    }
   ],
   "source": [
    "rev2 = [\"All my coworkers keep microwaving fish. They should be fired.\"]\n",
    "\n",
    "print(\"Class Prediction:\", \n",
    "      nb_clf.predict(\n",
    "          tfidf.transform(rev2)\n",
    "      ),'\\n',\n",
    "      'Class Probabilities:',\n",
    "      nb_clf.predict_proba(\n",
    "          tfidf.transform(rev2)\n",
    "      )\n",
    "     )"
   ]
  },
  {
   "cell_type": "markdown",
   "metadata": {},
   "source": [
    "So those two examples look okay. What are the model metrics?"
   ]
  },
  {
   "cell_type": "code",
   "execution_count": 18,
   "metadata": {},
   "outputs": [],
   "source": [
    "y_pred_train = nb_clf.predict(X_sm)"
   ]
  },
  {
   "cell_type": "code",
   "execution_count": 19,
   "metadata": {},
   "outputs": [
    {
     "name": "stdout",
     "output_type": "stream",
     "text": [
      "              precision    recall  f1-score   support\n",
      "\n",
      "         1.0       0.72      0.84      0.78     17296\n",
      "         2.0       0.71      0.73      0.72     17296\n",
      "         3.0       0.64      0.55      0.59     17296\n",
      "         4.0       0.55      0.55      0.55     17296\n",
      "         5.0       0.69      0.65      0.67     17296\n",
      "\n",
      "   micro avg       0.66      0.66      0.66     86480\n",
      "   macro avg       0.66      0.66      0.66     86480\n",
      "weighted avg       0.66      0.66      0.66     86480\n",
      "\n"
     ]
    }
   ],
   "source": [
    "print(classification_report(y_sm, y_pred_train))"
   ]
  },
  {
   "cell_type": "code",
   "execution_count": 20,
   "metadata": {},
   "outputs": [
    {
     "data": {
      "text/plain": [
       "0.6639569842738205"
      ]
     },
     "execution_count": 20,
     "metadata": {},
     "output_type": "execute_result"
    }
   ],
   "source": [
    "accuracy_score(y_sm, y_pred_train)"
   ]
  },
  {
   "cell_type": "markdown",
   "metadata": {},
   "source": [
    "So the model isn't that great, with all metrics hovering around 66 percent. Let's check the performance on the test set to see how well the model generalizes to new data.  "
   ]
  },
  {
   "cell_type": "code",
   "execution_count": 21,
   "metadata": {},
   "outputs": [],
   "source": [
    "y_pred_test = nb_clf.predict(tfidf_x_test)"
   ]
  },
  {
   "cell_type": "code",
   "execution_count": 22,
   "metadata": {},
   "outputs": [
    {
     "data": {
      "text/plain": [
       "0.43221500506525234"
      ]
     },
     "execution_count": 22,
     "metadata": {},
     "output_type": "execute_result"
    }
   ],
   "source": [
    "accuracy_score(y_test, y_pred_test)"
   ]
  },
  {
   "cell_type": "code",
   "execution_count": 23,
   "metadata": {},
   "outputs": [
    {
     "name": "stdout",
     "output_type": "stream",
     "text": [
      "              precision    recall  f1-score   support\n",
      "\n",
      "         1.0       0.29      0.57      0.39      1004\n",
      "         2.0       0.20      0.34      0.25      1340\n",
      "         3.0       0.31      0.27      0.29      3107\n",
      "         4.0       0.46      0.40      0.43      5613\n",
      "         5.0       0.63      0.55      0.58      5717\n",
      "\n",
      "   micro avg       0.43      0.43      0.43     16781\n",
      "   macro avg       0.38      0.43      0.39     16781\n",
      "weighted avg       0.46      0.43      0.44     16781\n",
      "\n"
     ]
    }
   ],
   "source": [
    "print(classification_report(y_test, y_pred_test))"
   ]
  },
  {
   "cell_type": "markdown",
   "metadata": {},
   "source": [
    "### Yikes!\n",
    "\n",
    "So I've dramatically overfit the data. While I'm still doing better than a random classifier (1/5 = 20%), 43 perent accuracy is not great. But I have a working model and I've exported it for use in a webapp.\n",
    "\n",
    "I'll turn to building that app next, and once that's up and running, I'll come back and test different models, and integrate multiple models into the app. "
   ]
  }
 ],
 "metadata": {
  "kernelspec": {
   "display_name": "Python 3",
   "language": "python",
   "name": "python3"
  },
  "language_info": {
   "codemirror_mode": {
    "name": "ipython",
    "version": 3
   },
   "file_extension": ".py",
   "mimetype": "text/x-python",
   "name": "python",
   "nbconvert_exporter": "python",
   "pygments_lexer": "ipython3",
   "version": "3.6.8"
  }
 },
 "nbformat": 4,
 "nbformat_minor": 2
}
